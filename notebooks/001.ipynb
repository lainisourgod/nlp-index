{
 "cells": [
  {
   "cell_type": "code",
   "execution_count": 7,
   "metadata": {},
   "outputs": [],
   "source": [
    "import json\n",
    "from llama_index.readers import JSONReader\n",
    "from llama_index import Document\n",
    "data = JSONReader().load_data(\"messages_1.json\")"
   ]
  },
  {
   "cell_type": "code",
   "execution_count": 5,
   "metadata": {},
   "outputs": [
    {
     "data": {
      "text/plain": [
       "1"
      ]
     },
     "execution_count": 5,
     "metadata": {},
     "output_type": "execute_result"
    }
   ],
   "source": [
    "len(data)"
   ]
  },
  {
   "cell_type": "markdown",
   "metadata": {},
   "source": [
    "отлично, дефолтный засовывает все в один документ"
   ]
  },
  {
   "cell_type": "code",
   "execution_count": 9,
   "metadata": {},
   "outputs": [
    {
     "data": {
      "text/plain": [
       "[{'text': 'вообще очень хорошая идея',\n",
       "  'time': '01.12.2017 13:43:10 UTC+04:00',\n",
       "  'author': 'brnz'},\n",
       " {'text': 'А кто готов сколько времени на это потратить?)',\n",
       "  'time': '01.12.2017 13:44:47 UTC+04:00',\n",
       "  'author': 'Timophey Molchanov'},\n",
       " {'text': 'мне по работе нужен хороший пос теггер который бы учитывал контекст, врде в наташу обещали завезти, но я еще не тестил',\n",
       "  'time': '01.12.2017 13:47:05 UTC+04:00',\n",
       "  'author': 'tonko 22'},\n",
       " {'text': 'Ох. А контектс как? Сложными регулярками или нейронками, так я не очень понимаю. И или разбивая на дерево и вытаскивая наличие других сущностей?',\n",
       "  'time': '01.12.2017 13:48:30 UTC+04:00',\n",
       "  'author': 'Timophey Molchanov'},\n",
       " {'text': 'Да я сам не знаю как это правильно делать, но я думаю что-то вроде lstm туда можно прикрутить',\n",
       "  'time': '01.12.2017 13:57:35 UTC+04:00',\n",
       "  'author': 'tonko 22'}]"
      ]
     },
     "execution_count": 9,
     "metadata": {},
     "output_type": "execute_result"
    }
   ],
   "source": [
    "json.load(open(\"./messages_1.json\"))[-5:]"
   ]
  },
  {
   "cell_type": "code",
   "execution_count": 13,
   "metadata": {},
   "outputs": [],
   "source": [
    "import json\n",
    "from llama_index import Document\n",
    "messages = json.load(open(\"./messages_1.json\"))\n",
    "data = [\n",
    "    Document(\n",
    "        text=message[\"text\"],\n",
    "        extra_info=dict(time=message[\"time\"], author=message[\"author\"]),\n",
    "    )\n",
    "    for message in messages\n",
    "]"
   ]
  },
  {
   "cell_type": "code",
   "execution_count": 15,
   "metadata": {},
   "outputs": [
    {
     "data": {
      "text/plain": [
       "[Document(id_='36070364-79e5-48a2-a73f-c06a4fb4026b', embedding=None, metadata={'time': '01.12.2017 13:43:10 UTC+04:00', 'author': 'brnz'}, excluded_embed_metadata_keys=[], excluded_llm_metadata_keys=[], relationships={}, hash='5c3601f31213505d4d52ff9155d46aadf9f1e92d1cfa4026cba09a2c09b27d06', text='вообще очень хорошая идея', start_char_idx=None, end_char_idx=None, text_template='{metadata_str}\\n\\n{content}', metadata_template='{key}: {value}', metadata_seperator='\\n'),\n",
       " Document(id_='03156cca-658c-4c08-b836-45f3b6431a11', embedding=None, metadata={'time': '01.12.2017 13:44:47 UTC+04:00', 'author': 'Timophey Molchanov'}, excluded_embed_metadata_keys=[], excluded_llm_metadata_keys=[], relationships={}, hash='eef7e8fa41345756edff2c8f52571784d3e7227f78c0d5f86160a808776b7829', text='А кто готов сколько времени на это потратить?)', start_char_idx=None, end_char_idx=None, text_template='{metadata_str}\\n\\n{content}', metadata_template='{key}: {value}', metadata_seperator='\\n'),\n",
       " Document(id_='9503597c-6d1a-4629-8c68-32a58a4a9a51', embedding=None, metadata={'time': '01.12.2017 13:47:05 UTC+04:00', 'author': 'tonko 22'}, excluded_embed_metadata_keys=[], excluded_llm_metadata_keys=[], relationships={}, hash='077e85cf24048128d3613792044b4990b8572a96188b1d1e4d33147cf5965687', text='мне по работе нужен хороший пос теггер который бы учитывал контекст, врде в наташу обещали завезти, но я еще не тестил', start_char_idx=None, end_char_idx=None, text_template='{metadata_str}\\n\\n{content}', metadata_template='{key}: {value}', metadata_seperator='\\n'),\n",
       " Document(id_='de339150-bccc-4094-bafc-a6b1211e8a6b', embedding=None, metadata={'time': '01.12.2017 13:48:30 UTC+04:00', 'author': 'Timophey Molchanov'}, excluded_embed_metadata_keys=[], excluded_llm_metadata_keys=[], relationships={}, hash='ef1dfbc5684e17ea348935955e3c0555feff75e066f44ad49044c6876db5aca2', text='Ох. А контектс как? Сложными регулярками или нейронками, так я не очень понимаю. И или разбивая на дерево и вытаскивая наличие других сущностей?', start_char_idx=None, end_char_idx=None, text_template='{metadata_str}\\n\\n{content}', metadata_template='{key}: {value}', metadata_seperator='\\n'),\n",
       " Document(id_='a9d1922c-f176-47f0-b458-ef73d415c4ab', embedding=None, metadata={'time': '01.12.2017 13:57:35 UTC+04:00', 'author': 'tonko 22'}, excluded_embed_metadata_keys=[], excluded_llm_metadata_keys=[], relationships={}, hash='6ff78141a1f660041302a039961480c3f0bad0925fbc0e64c2be2e1e0a3f240d', text='Да я сам не знаю как это правильно делать, но я думаю что-то вроде lstm туда можно прикрутить', start_char_idx=None, end_char_idx=None, text_template='{metadata_str}\\n\\n{content}', metadata_template='{key}: {value}', metadata_seperator='\\n')]"
      ]
     },
     "execution_count": 15,
     "metadata": {},
     "output_type": "execute_result"
    }
   ],
   "source": [
    "data[-5:]"
   ]
  },
  {
   "cell_type": "code",
   "execution_count": 33,
   "metadata": {},
   "outputs": [
    {
     "name": "stdout",
     "output_type": "stream",
     "text": [
      "\n",
      "Natasha is a natural language processing tool. It is used to identify entities such as people, organizations, and locations in text.\n"
     ]
    }
   ],
   "source": [
    "query_engine = index.as_query_engine()\n",
    "response = query_engine.query(\"natasha\")\n",
    "print(response)"
   ]
  },
  {
   "cell_type": "code",
   "execution_count": 38,
   "metadata": {},
   "outputs": [
    {
     "name": "stdout",
     "output_type": "stream",
     "text": [
      "\n",
      "Natasha может использоваться для извлечения имен, адресов и личностей из текстов. Например, можно использовать NamesExtractor для извлечения имен, AddressExtractor для извлечения адресов и PersonExtractor для извлечения личностей. Также можно использовать Natasha для анализа текстов, например, для анализа отзывов горожан на передел земли. В этом случае можно использовать Natasha для извлечения адресов и нанесения их на карту.\n"
     ]
    }
   ],
   "source": [
    "query_engine = index.as_query_engine()\n",
    "response = query_engine.query(\"how to use natasha\")\n",
    "print(response)"
   ]
  },
  {
   "cell_type": "code",
   "execution_count": 39,
   "metadata": {},
   "outputs": [
    {
     "name": "stdout",
     "output_type": "stream",
     "text": [
      "\n",
      "Да, можно использовать Natasha для онтологий. Natasha может быть использована для извлечения информации из текстов и для поиска сущностей, таких как персоны, организации, локации и другие сущности, такие как названия товаров. Она также может использоваться для построения онтологий, то есть для построения иерархических структур данных, которые представляют собой отношения между различными сущностями.\n"
     ]
    }
   ],
   "source": [
    "print(query_engine.query(\"можно ли использовать natasha для онтологий?\"))"
   ]
  },
  {
   "cell_type": "markdown",
   "metadata": {},
   "source": [
    "я надеялся, что тут сошлется на сообщение"
   ]
  },
  {
   "cell_type": "code",
   "execution_count": 40,
   "metadata": {},
   "outputs": [
    {
     "name": "stdout",
     "output_type": "stream",
     "text": [
      "\n",
      "Вы можете прочитать документацию парсера Natasha по адресу http://natasha.readthedocs.io/ru/latest/.\n"
     ]
    }
   ],
   "source": [
    "print(query_engine.query(\"где прочитать доки парсера natasha?\"))"
   ]
  },
  {
   "cell_type": "markdown",
   "metadata": {},
   "source": [
    "врет"
   ]
  },
  {
   "cell_type": "code",
   "execution_count": 41,
   "metadata": {},
   "outputs": [
    {
     "name": "stdout",
     "output_type": "stream",
     "text": [
      "\n",
      "Timophey Molchanov хотел сделать русскую модель для Spacy.\n"
     ]
    }
   ],
   "source": [
    "print(query_engine.query(\"кто хотел сделать русскую модель для Spacy?\"))"
   ]
  },
  {
   "cell_type": "markdown",
   "metadata": {},
   "source": [
    "а вот это правда там было!!"
   ]
  },
  {
   "cell_type": "code",
   "execution_count": 42,
   "metadata": {},
   "outputs": [
    {
     "name": "stdout",
     "output_type": "stream",
     "text": [
      "\n",
      "Сергей Муравьев и Тимофей Молчанов.\n"
     ]
    }
   ],
   "source": [
    "print(query_engine.query(\"все авторы, говорившие про spacy\"))"
   ]
  },
  {
   "cell_type": "markdown",
   "metadata": {},
   "source": [
    "одного упустила, другие на месте"
   ]
  },
  {
   "cell_type": "markdown",
   "metadata": {},
   "source": [
    "можно заставить корректный ник выводить промптом, наверное"
   ]
  },
  {
   "cell_type": "code",
   "execution_count": 43,
   "metadata": {},
   "outputs": [
    {
     "name": "stdout",
     "output_type": "stream",
     "text": [
      "\n",
      "Based on the context information provided, it is not possible to answer the question. The conversation between Nick Turusin and Alexander Kukushkin does not provide any information about an alternative to Natasha+Yargy for English.\n"
     ]
    }
   ],
   "source": [
    "print(query_engine.query(\"какой аналог natasha+yargy пойдет для английского?\"))"
   ]
  },
  {
   "cell_type": "code",
   "execution_count": 44,
   "metadata": {},
   "outputs": [
    {
     "name": "stdout",
     "output_type": "stream",
     "text": [
      "\n",
      "Unfortunately, without prior knowledge, it is not possible to answer the question. Natasha and Yargy are open source libraries for natural language processing (NLP) and text analysis in Russian. There is no direct equivalent for English.\n"
     ]
    }
   ],
   "source": [
    "print(query_engine.query(\"аналоги natasha+yargy для английского?\"))"
   ]
  },
  {
   "cell_type": "markdown",
   "metadata": {},
   "source": [
    "тупит, это там было"
   ]
  },
  {
   "cell_type": "code",
   "execution_count": 46,
   "metadata": {},
   "outputs": [
    {
     "data": {
      "text/plain": [
       "Response(response='\\nBased on the context information provided, it is not possible to answer the question. The conversation between Nick Turusin and Alexander Kukushkin does not provide any information about an alternative to Natasha+Yargy for English.', source_nodes=[NodeWithScore(node=TextNode(id_='2780022c-0539-4a21-a12d-088f9e25f5dc', embedding=None, metadata={'time': '23.11.2017 17:34:47 UTC+04:00', 'author': 'Nick Turusin'}, excluded_embed_metadata_keys=[], excluded_llm_metadata_keys=[], relationships={<NodeRelationship.SOURCE: '1'>: RelatedNodeInfo(node_id='ed99574c-7d15-450e-b1f8-c4e920a6250c', node_type=None, metadata={'time': '23.11.2017 17:34:47 UTC+04:00', 'author': 'Nick Turusin'}, hash='1a1f2f6748acdfb485296d37b4cf2555275a65ad545ba225c45f04b35d96001b')}, hash='1a1f2f6748acdfb485296d37b4cf2555275a65ad545ba225c45f04b35d96001b', text='Ребят, а на какой аналог natasha+yargy посоветуете посмотреть для английского?', start_char_idx=0, end_char_idx=78, text_template='{metadata_str}\\n\\n{content}', metadata_template='{key}: {value}', metadata_seperator='\\n'), score=0.9239966739156028), NodeWithScore(node=TextNode(id_='049b39ac-09da-42f6-9df2-885adf761acb', embedding=None, metadata={'time': '06.04.2017 22:23:50 UTC+04:00', 'author': 'Alexander Kukushkin'}, excluded_embed_metadata_keys=[], excluded_llm_metadata_keys=[], relationships={<NodeRelationship.SOURCE: '1'>: RelatedNodeInfo(node_id='34f5f155-d326-4663-a842-9e46c2c5d284', node_type=None, metadata={'time': '06.04.2017 22:23:50 UTC+04:00', 'author': 'Alexander Kukushkin'}, hash='6427b79493072c1f4dbb2c9365f9b02d07a1da0403fcb532e5155867dadb79c0')}, hash='6427b79493072c1f4dbb2c9365f9b02d07a1da0403fcb532e5155867dadb79c0', text='@dveselov Я хотел бы в ближайшее время расширить набор грамматик natasha https://github.com/bureaucratic-labs/natasha/pull/14 . Но для этого нужно поправить пару проблем в yargy https://github.com/bureaucratic-labs/yargy/issues/12 https://github.com/bureaucratic-labs/yargy/issues/13 . Скажи, что у тебя сейчас со временем? Ты не мог бы мне помочь сделать правки в yargy или сам заняться этими тикетами?', start_char_idx=0, end_char_idx=403, text_template='{metadata_str}\\n\\n{content}', metadata_template='{key}: {value}', metadata_seperator='\\n'), score=0.869285601441848)], metadata={'2780022c-0539-4a21-a12d-088f9e25f5dc': {'time': '23.11.2017 17:34:47 UTC+04:00', 'author': 'Nick Turusin'}, '049b39ac-09da-42f6-9df2-885adf761acb': {'time': '06.04.2017 22:23:50 UTC+04:00', 'author': 'Alexander Kukushkin'}})"
      ]
     },
     "execution_count": 46,
     "metadata": {},
     "output_type": "execute_result"
    }
   ],
   "source": [
    "response = query_engine.query(\"какой аналог natasha+yargy пойдет для английского?\")\n",
    "response"
   ]
  },
  {
   "cell_type": "code",
   "execution_count": 47,
   "metadata": {},
   "outputs": [
    {
     "data": {
      "text/plain": [
       "[NodeWithScore(node=TextNode(id_='2780022c-0539-4a21-a12d-088f9e25f5dc', embedding=None, metadata={'time': '23.11.2017 17:34:47 UTC+04:00', 'author': 'Nick Turusin'}, excluded_embed_metadata_keys=[], excluded_llm_metadata_keys=[], relationships={<NodeRelationship.SOURCE: '1'>: RelatedNodeInfo(node_id='ed99574c-7d15-450e-b1f8-c4e920a6250c', node_type=None, metadata={'time': '23.11.2017 17:34:47 UTC+04:00', 'author': 'Nick Turusin'}, hash='1a1f2f6748acdfb485296d37b4cf2555275a65ad545ba225c45f04b35d96001b')}, hash='1a1f2f6748acdfb485296d37b4cf2555275a65ad545ba225c45f04b35d96001b', text='Ребят, а на какой аналог natasha+yargy посоветуете посмотреть для английского?', start_char_idx=0, end_char_idx=78, text_template='{metadata_str}\\n\\n{content}', metadata_template='{key}: {value}', metadata_seperator='\\n'), score=0.9239966739156028),\n",
       " NodeWithScore(node=TextNode(id_='049b39ac-09da-42f6-9df2-885adf761acb', embedding=None, metadata={'time': '06.04.2017 22:23:50 UTC+04:00', 'author': 'Alexander Kukushkin'}, excluded_embed_metadata_keys=[], excluded_llm_metadata_keys=[], relationships={<NodeRelationship.SOURCE: '1'>: RelatedNodeInfo(node_id='34f5f155-d326-4663-a842-9e46c2c5d284', node_type=None, metadata={'time': '06.04.2017 22:23:50 UTC+04:00', 'author': 'Alexander Kukushkin'}, hash='6427b79493072c1f4dbb2c9365f9b02d07a1da0403fcb532e5155867dadb79c0')}, hash='6427b79493072c1f4dbb2c9365f9b02d07a1da0403fcb532e5155867dadb79c0', text='@dveselov Я хотел бы в ближайшее время расширить набор грамматик natasha https://github.com/bureaucratic-labs/natasha/pull/14 . Но для этого нужно поправить пару проблем в yargy https://github.com/bureaucratic-labs/yargy/issues/12 https://github.com/bureaucratic-labs/yargy/issues/13 . Скажи, что у тебя сейчас со временем? Ты не мог бы мне помочь сделать правки в yargy или сам заняться этими тикетами?', start_char_idx=0, end_char_idx=403, text_template='{metadata_str}\\n\\n{content}', metadata_template='{key}: {value}', metadata_seperator='\\n'), score=0.869285601441848)]"
      ]
     },
     "execution_count": 47,
     "metadata": {},
     "output_type": "execute_result"
    }
   ],
   "source": [
    "response.source_nodes"
   ]
  },
  {
   "cell_type": "markdown",
   "metadata": {},
   "source": [
    "он вытянул две ноды — одну топик-стартер для моего вопроса, а другую из другого времени\n",
    "\n",
    "нужно как-то заставить его вытягивать соседние ноды."
   ]
  },
  {
   "cell_type": "code",
   "execution_count": 48,
   "metadata": {},
   "outputs": [
    {
     "data": {
      "text/plain": [
       "TextNode(id_='2780022c-0539-4a21-a12d-088f9e25f5dc', embedding=None, metadata={'time': '23.11.2017 17:34:47 UTC+04:00', 'author': 'Nick Turusin'}, excluded_embed_metadata_keys=[], excluded_llm_metadata_keys=[], relationships={<NodeRelationship.SOURCE: '1'>: RelatedNodeInfo(node_id='ed99574c-7d15-450e-b1f8-c4e920a6250c', node_type=None, metadata={'time': '23.11.2017 17:34:47 UTC+04:00', 'author': 'Nick Turusin'}, hash='1a1f2f6748acdfb485296d37b4cf2555275a65ad545ba225c45f04b35d96001b')}, hash='1a1f2f6748acdfb485296d37b4cf2555275a65ad545ba225c45f04b35d96001b', text='Ребят, а на какой аналог natasha+yargy посоветуете посмотреть для английского?', start_char_idx=0, end_char_idx=78, text_template='{metadata_str}\\n\\n{content}', metadata_template='{key}: {value}', metadata_seperator='\\n')"
      ]
     },
     "execution_count": 48,
     "metadata": {},
     "output_type": "execute_result"
    }
   ],
   "source": [
    "response.source_nodes[0].node"
   ]
  },
  {
   "cell_type": "code",
   "execution_count": 49,
   "metadata": {},
   "outputs": [
    {
     "data": {
      "text/plain": [
       "{<NodeRelationship.SOURCE: '1'>: RelatedNodeInfo(node_id='ed99574c-7d15-450e-b1f8-c4e920a6250c', node_type=None, metadata={'time': '23.11.2017 17:34:47 UTC+04:00', 'author': 'Nick Turusin'}, hash='1a1f2f6748acdfb485296d37b4cf2555275a65ad545ba225c45f04b35d96001b')}"
      ]
     },
     "execution_count": 49,
     "metadata": {},
     "output_type": "execute_result"
    }
   ],
   "source": [
    "response.source_nodes[0].node.relationships"
   ]
  },
  {
   "cell_type": "markdown",
   "metadata": {},
   "source": [
    "#### фактуально?"
   ]
  },
  {
   "cell_type": "code",
   "execution_count": 54,
   "metadata": {},
   "outputs": [
    {
     "data": {
      "text/plain": [
       "'\\n25.08.2017 23:41:00 UTC+04:00'"
      ]
     },
     "execution_count": 54,
     "metadata": {},
     "output_type": "execute_result"
    }
   ],
   "source": [
    "response = query_engine.query(\"когда последний раз писал tonko 22?\")\n",
    "response.response"
   ]
  },
  {
   "cell_type": "markdown",
   "metadata": {},
   "source": [
    "мимо, он писал в декабре"
   ]
  }
 ],
 "metadata": {
  "kernelspec": {
   "display_name": ".venv",
   "language": "python",
   "name": "python3"
  },
  "language_info": {
   "codemirror_mode": {
    "name": "ipython",
    "version": 3
   },
   "file_extension": ".py",
   "mimetype": "text/x-python",
   "name": "python",
   "nbconvert_exporter": "python",
   "pygments_lexer": "ipython3",
   "version": "3.11.4"
  },
  "orig_nbformat": 4
 },
 "nbformat": 4,
 "nbformat_minor": 2
}
