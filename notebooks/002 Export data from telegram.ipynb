{
 "cells": [
  {
   "cell_type": "code",
   "execution_count": 1,
   "metadata": {},
   "outputs": [],
   "source": [
    "import json"
   ]
  },
  {
   "cell_type": "code",
   "execution_count": 2,
   "metadata": {},
   "outputs": [],
   "source": [
    "documents = json.load(open(\"data/raw/chat_export.json\"))"
   ]
  },
  {
   "cell_type": "code",
   "execution_count": 17,
   "metadata": {},
   "outputs": [
    {
     "data": {
      "text/plain": [
       "dict_keys(['name', 'type', 'id', 'messages'])"
      ]
     },
     "execution_count": 17,
     "metadata": {},
     "output_type": "execute_result"
    }
   ],
   "source": [
    "documents.keys()"
   ]
  },
  {
   "cell_type": "code",
   "execution_count": 22,
   "metadata": {},
   "outputs": [
    {
     "data": {
      "text/plain": [
       "({'id': 1,\n",
       "  'type': 'service',\n",
       "  'date': '2016-11-04T21:06:17',\n",
       "  'date_unixtime': '1478279177',\n",
       "  'actor': 'Natural Language Processing',\n",
       "  'actor_id': 'channel1095835958',\n",
       "  'action': 'migrate_from_group',\n",
       "  'title': 'Natural Language Processing',\n",
       "  'text': '',\n",
       "  'text_entities': []},\n",
       " {'id': 3,\n",
       "  'type': 'message',\n",
       "  'date': '2016-12-21T04:05:54',\n",
       "  'date_unixtime': '1482278754',\n",
       "  'edited': '2016-12-21T04:06:43',\n",
       "  'edited_unixtime': '1482278803',\n",
       "  'from': 'Dima Veselov',\n",
       "  'from_id': 'user216024521',\n",
       "  'text': ['Для интересующихся:  прогнал natasha через тесты factRuEval-2016 (первая дорожка, сущности типа персона, организация, гео) и получил более-менее приемлимые результаты (при loc=locorg, overall P=0.81, R=0.52, F1=0.6348)\\nМожно всё это повторить, совершенно бесплатно, без смс и регистрации: ',\n",
       "   {'type': 'link',\n",
       "    'text': 'https://gist.github.com/dveselov/af9bc55b4be16fe1fe92d4b5347f1027'},\n",
       "   ''],\n",
       "  'text_entities': [{'type': 'plain',\n",
       "    'text': 'Для интересующихся:  прогнал natasha через тесты factRuEval-2016 (первая дорожка, сущности типа персона, организация, гео) и получил более-менее приемлимые результаты (при loc=locorg, overall P=0.81, R=0.52, F1=0.6348)\\nМожно всё это повторить, совершенно бесплатно, без смс и регистрации: '},\n",
       "   {'type': 'link',\n",
       "    'text': 'https://gist.github.com/dveselov/af9bc55b4be16fe1fe92d4b5347f1027'},\n",
       "   {'type': 'plain', 'text': ''}]},\n",
       " {'id': 1135,\n",
       "  'type': 'message',\n",
       "  'date': '2018-01-09T15:22:01',\n",
       "  'date_unixtime': '1515496921',\n",
       "  'from': 'Jugor',\n",
       "  'from_id': 'user356285361',\n",
       "  'text': 'т.е. различные attention не катят - хочется еще на верх всего навесить что-то, что может проанализировать человек-эксперт',\n",
       "  'text_entities': [{'type': 'plain',\n",
       "    'text': 'т.е. различные attention не катят - хочется еще на верх всего навесить что-то, что может проанализировать человек-эксперт'}]})"
      ]
     },
     "execution_count": 22,
     "metadata": {},
     "output_type": "execute_result"
    }
   ],
   "source": [
    "documents[\"messages\"][0], documents[\"messages\"][2], documents[\"messages\"][1111]"
   ]
  },
  {
   "cell_type": "code",
   "execution_count": 16,
   "metadata": {},
   "outputs": [
    {
     "data": {
      "text/plain": [
       "({'id': 41,\n",
       "  'date': '2017-01-31T16:07:54',\n",
       "  'from': 'Dima Veselov',\n",
       "  'from_id': 'user216024521',\n",
       "  'text': [{'type': 'link',\n",
       "    'text': 'https://pymorphy2.readthedocs.io/en/latest/user/guide.html#select-correct'}]},\n",
       " 83796)"
      ]
     },
     "execution_count": 16,
     "metadata": {},
     "output_type": "execute_result"
    }
   ],
   "source": [
    "relevant_keys = [\"id\", \"date\", \"from\", \"from_id\", \"text\"]\n",
    "messages = [\n",
    "    {key: message[key] for key in relevant_keys}\n",
    "    for message in documents[\"messages\"]\n",
    "    if message[\"type\"] == \"message\"\n",
    "]\n",
    "messages[35], len(messages)"
   ]
  },
  {
   "cell_type": "markdown",
   "metadata": {},
   "source": [
    "83k messages! not that much, but still significant.\n"
   ]
  },
  {
   "cell_type": "markdown",
   "metadata": {},
   "source": [
    "#### Types of formatting applied to data\n",
    "\n",
    "I guess we can just parse all \"text\" blocks into one message\n"
   ]
  },
  {
   "cell_type": "code",
   "execution_count": 24,
   "metadata": {},
   "outputs": [
    {
     "data": {
      "text/plain": [
       "Counter({'txt': 7147761,\n",
       "         'link': 8934,\n",
       "         'mention_name': 1539,\n",
       "         'text_link': 1441,\n",
       "         'bold': 1193,\n",
       "         'mention': 1072,\n",
       "         'code': 989,\n",
       "         'pre': 553,\n",
       "         'italic': 310,\n",
       "         'hashtag': 289,\n",
       "         'custom_emoji': 160,\n",
       "         'bot_command': 98,\n",
       "         'strikethrough': 48,\n",
       "         'blockquote': 46,\n",
       "         'spoiler': 35,\n",
       "         'underline': 21,\n",
       "         'email': 16,\n",
       "         'phone': 12,\n",
       "         'bank_card': 9,\n",
       "         'cashtag': 4})"
      ]
     },
     "execution_count": 24,
     "metadata": {},
     "output_type": "execute_result"
    }
   ],
   "source": [
    "from collections import Counter\n",
    "\n",
    "Counter(\n",
    "    part[\"type\"] if isinstance(part, dict) else \"txt\"\n",
    "    for message in messages\n",
    "    for part in message[\"text\"]\n",
    ")"
   ]
  },
  {
   "cell_type": "code",
   "execution_count": 41,
   "metadata": {},
   "outputs": [
    {
     "data": {
      "text/plain": [
       "'Для интересующихся:  прогнал natasha через тесты factRuEval-2016 (первая дорожка, сущности типа персона, организация, гео) и получил более-менее приемлимые результаты (при loc=locorg, overall P=0.81, R=0.52, F1=0.6348)\\nМожно всё это повторить, совершенно бесплатно, без смс и регистрации: https://gist.github.com/dveselov/af9bc55b4be16fe1fe92d4b5347f1027'"
      ]
     },
     "execution_count": 41,
     "metadata": {},
     "output_type": "execute_result"
    }
   ],
   "source": [
    "texts = []\n",
    "\n",
    "for message in messages:\n",
    "    message_text = \"\"\n",
    "\n",
    "    for part in message[\"text\"]:\n",
    "        if isinstance(part, dict):\n",
    "            message_text += part[\"text\"]\n",
    "        else:\n",
    "            message_text += part\n",
    "\n",
    "    texts.append(message_text)\n",
    "\n",
    "texts[0]"
   ]
  },
  {
   "cell_type": "code",
   "execution_count": 46,
   "metadata": {},
   "outputs": [
    {
     "data": {
      "text/plain": [
       "'https://pymorphy2.readthedocs.io/en/latest/user/guide.html#select-correct'"
      ]
     },
     "execution_count": 46,
     "metadata": {},
     "output_type": "execute_result"
    }
   ],
   "source": [
    "texts[35]"
   ]
  },
  {
   "cell_type": "code",
   "execution_count": 48,
   "metadata": {},
   "outputs": [
    {
     "data": {
      "text/html": [
       "<div>\n",
       "<style scoped>\n",
       "    .dataframe tbody tr th:only-of-type {\n",
       "        vertical-align: middle;\n",
       "    }\n",
       "\n",
       "    .dataframe tbody tr th {\n",
       "        vertical-align: top;\n",
       "    }\n",
       "\n",
       "    .dataframe thead th {\n",
       "        text-align: right;\n",
       "    }\n",
       "</style>\n",
       "<table border=\"1\" class=\"dataframe\">\n",
       "  <thead>\n",
       "    <tr style=\"text-align: right;\">\n",
       "      <th></th>\n",
       "      <th>id</th>\n",
       "      <th>date</th>\n",
       "      <th>from</th>\n",
       "      <th>from_id</th>\n",
       "      <th>text</th>\n",
       "    </tr>\n",
       "  </thead>\n",
       "  <tbody>\n",
       "    <tr>\n",
       "      <th>0</th>\n",
       "      <td>3</td>\n",
       "      <td>2016-12-21T04:05:54</td>\n",
       "      <td>Dima Veselov</td>\n",
       "      <td>user216024521</td>\n",
       "      <td>[Для интересующихся:  прогнал natasha через те...</td>\n",
       "    </tr>\n",
       "    <tr>\n",
       "      <th>1</th>\n",
       "      <td>4</td>\n",
       "      <td>2016-12-29T13:19:06</td>\n",
       "      <td>Dima Veselov</td>\n",
       "      <td>user216024521</td>\n",
       "      <td></td>\n",
       "    </tr>\n",
       "    <tr>\n",
       "      <th>2</th>\n",
       "      <td>5</td>\n",
       "      <td>2016-12-29T13:19:10</td>\n",
       "      <td>Dima Veselov</td>\n",
       "      <td>user216024521</td>\n",
       "      <td>Чуть-чуть допилил правила, теперь результаты т...</td>\n",
       "    </tr>\n",
       "    <tr>\n",
       "      <th>3</th>\n",
       "      <td>8</td>\n",
       "      <td>2017-01-29T14:37:07</td>\n",
       "      <td>Vlad Pastushenko</td>\n",
       "      <td>user133814935</td>\n",
       "      <td>Ребят, подскажите тупню, как из текста вытащит...</td>\n",
       "    </tr>\n",
       "    <tr>\n",
       "      <th>4</th>\n",
       "      <td>9</td>\n",
       "      <td>2017-01-29T17:19:12</td>\n",
       "      <td>Dima Veselov</td>\n",
       "      <td>user216024521</td>\n",
       "      <td>[Привет. Можно переиспользовать существующие г...</td>\n",
       "    </tr>\n",
       "    <tr>\n",
       "      <th>...</th>\n",
       "      <td>...</td>\n",
       "      <td>...</td>\n",
       "      <td>...</td>\n",
       "      <td>...</td>\n",
       "      <td>...</td>\n",
       "    </tr>\n",
       "    <tr>\n",
       "      <th>83791</th>\n",
       "      <td>103039</td>\n",
       "      <td>2024-06-16T00:43:10</td>\n",
       "      <td>Alexander</td>\n",
       "      <td>user264444661</td>\n",
       "      <td>Друзья, если еще будут рекомендации - то отпиш...</td>\n",
       "    </tr>\n",
       "    <tr>\n",
       "      <th>83792</th>\n",
       "      <td>103040</td>\n",
       "      <td>2024-06-16T00:43:14</td>\n",
       "      <td>Степан Долженко</td>\n",
       "      <td>user55624230</td>\n",
       "      <td>Сори за офтоп, но интересно, есть ли библиотек...</td>\n",
       "    </tr>\n",
       "    <tr>\n",
       "      <th>83793</th>\n",
       "      <td>103041</td>\n",
       "      <td>2024-06-16T00:43:21</td>\n",
       "      <td>Kristaller</td>\n",
       "      <td>user362918197</td>\n",
       "      <td>Ну англоязычные слова она точно понимает</td>\n",
       "    </tr>\n",
       "    <tr>\n",
       "      <th>83794</th>\n",
       "      <td>103042</td>\n",
       "      <td>2024-06-16T00:46:36</td>\n",
       "      <td>Степан Долженко</td>\n",
       "      <td>user55624230</td>\n",
       "      <td>У меня задача банально простая — книжку разбив...</td>\n",
       "    </tr>\n",
       "    <tr>\n",
       "      <th>83795</th>\n",
       "      <td>103044</td>\n",
       "      <td>2024-06-16T07:12:20</td>\n",
       "      <td>( ͡° ͜ʖ ͡°)</td>\n",
       "      <td>user456094128</td>\n",
       "      <td>Товарищи, какая наименее затратная модель или ...</td>\n",
       "    </tr>\n",
       "  </tbody>\n",
       "</table>\n",
       "<p>83796 rows × 5 columns</p>\n",
       "</div>"
      ],
      "text/plain": [
       "           id                 date              from        from_id  \\\n",
       "0           3  2016-12-21T04:05:54      Dima Veselov  user216024521   \n",
       "1           4  2016-12-29T13:19:06      Dima Veselov  user216024521   \n",
       "2           5  2016-12-29T13:19:10      Dima Veselov  user216024521   \n",
       "3           8  2017-01-29T14:37:07  Vlad Pastushenko  user133814935   \n",
       "4           9  2017-01-29T17:19:12      Dima Veselov  user216024521   \n",
       "...       ...                  ...               ...            ...   \n",
       "83791  103039  2024-06-16T00:43:10         Alexander  user264444661   \n",
       "83792  103040  2024-06-16T00:43:14   Степан Долженко   user55624230   \n",
       "83793  103041  2024-06-16T00:43:21        Kristaller  user362918197   \n",
       "83794  103042  2024-06-16T00:46:36   Степан Долженко   user55624230   \n",
       "83795  103044  2024-06-16T07:12:20       ( ͡° ͜ʖ ͡°)  user456094128   \n",
       "\n",
       "                                                    text  \n",
       "0      [Для интересующихся:  прогнал natasha через те...  \n",
       "1                                                         \n",
       "2      Чуть-чуть допилил правила, теперь результаты т...  \n",
       "3      Ребят, подскажите тупню, как из текста вытащит...  \n",
       "4      [Привет. Можно переиспользовать существующие г...  \n",
       "...                                                  ...  \n",
       "83791  Друзья, если еще будут рекомендации - то отпиш...  \n",
       "83792  Сори за офтоп, но интересно, есть ли библиотек...  \n",
       "83793           Ну англоязычные слова она точно понимает  \n",
       "83794  У меня задача банально простая — книжку разбив...  \n",
       "83795  Товарищи, какая наименее затратная модель или ...  \n",
       "\n",
       "[83796 rows x 5 columns]"
      ]
     },
     "execution_count": 48,
     "metadata": {},
     "output_type": "execute_result"
    }
   ],
   "source": [
    "import pandas as pd\n",
    "\n",
    "message_df = pd.DataFrame(messages)\n",
    "message_df"
   ]
  },
  {
   "cell_type": "code",
   "execution_count": 53,
   "metadata": {},
   "outputs": [
    {
     "data": {
      "text/plain": [
       "'Для интересующихся:  прогнал natasha через тесты factRuEval-2016 (первая дорожка, сущности типа персона, организация, гео) и получил более-менее приемлимые результаты (при loc=locorg, overall P=0.81, R=0.52, F1=0.6348)\\nМожно всё это повторить, совершенно бесплатно, без смс и регистрации: https://gist.github.com/dveselov/af9bc55b4be16fe1fe92d4b5347f1027'"
      ]
     },
     "execution_count": 53,
     "metadata": {},
     "output_type": "execute_result"
    }
   ],
   "source": [
    "message_df[\"text\"] = texts\n",
    "message_df[\"text\"].iloc[0]"
   ]
  },
  {
   "cell_type": "code",
   "execution_count": 55,
   "metadata": {},
   "outputs": [],
   "source": [
    "message_df.to_csv(\"data/prepared/messages.csv\", index=False)"
   ]
  }
 ],
 "metadata": {
  "kernelspec": {
   "display_name": ".venv",
   "language": "python",
   "name": "python3"
  },
  "language_info": {
   "codemirror_mode": {
    "name": "ipython",
    "version": 3
   },
   "file_extension": ".py",
   "mimetype": "text/x-python",
   "name": "python",
   "nbconvert_exporter": "python",
   "pygments_lexer": "ipython3",
   "version": "3.12.2"
  }
 },
 "nbformat": 4,
 "nbformat_minor": 2
}
